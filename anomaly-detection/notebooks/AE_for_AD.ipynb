{
 "cells": [
  {
   "cell_type": "markdown",
   "metadata": {},
   "source": [
    "# Autoencoders for Anomaly Detection\n",
    "\n",
    "Based on the article at https://bit.ly/2VgNyl7, made for the bonus task of the cyber data analytics class. Download the data and adjust the paths in the next cells.\n",
    "\n",
    "Requires \n",
    "* seaborn\n",
    "* tensorflow\n",
    "* keras\n",
    "* sklearn\n",
    "* pyplot, pylab\n",
    "\n",
    "and for visualizing the network also the graphviz package. Install directly from the notebook with **!pip install package**"
   ]
  },
  {
   "cell_type": "code",
   "execution_count": 29,
   "metadata": {
    "ExecuteTime": {
     "end_time": "2019-05-27T22:04:28.416941Z",
     "start_time": "2019-05-27T22:04:28.406050Z"
    }
   },
   "outputs": [],
   "source": [
    "%matplotlib inline\n",
    "import matplotlib.pyplot as plt\n",
    "import seaborn as sns\n",
    "\n",
    "import pandas as pd\n",
    "import numpy as np\n",
    "\n",
    "import tensorflow as tf\n",
    "from keras.models import Model, load_model\n",
    "from keras.layers import Input, Dense\n",
    "from keras.callbacks import ModelCheckpoint, TensorBoard\n",
    "from keras import regularizers\n",
    "\n",
    "from sklearn.preprocessing import StandardScaler\n",
    "from sklearn.model_selection import train_test_split\n",
    "from sklearn.metrics import confusion_matrix, precision_recall_curve\n",
    "from sklearn.metrics import recall_score, classification_report, auc, roc_curve\n",
    "from sklearn.metrics import precision_recall_fscore_support, f1_score\n",
    "\n",
    "from numpy.random import seed\n",
    "seed(1)\n",
    "from tensorflow import set_random_seed\n",
    "set_random_seed(2)\n",
    "\n",
    "SEED = 123 \n",
    "DATA_SPLIT_PCT = 0.2\n",
    "\n",
    "LABELS = [\"Normal\",\"Attack\"]\n",
    "\n",
    "# please adjust the dataset paths\n",
    "NORMAL = \"../data/BATADAL_training1.csv\"\n",
    "MIXED = \"../data/BATADAL_training2.csv\"\n",
    "\n",
    "# Add path to our code\n",
    "import sys\n",
    "sys.path.append(\"../\")"
   ]
  },
  {
   "cell_type": "code",
   "execution_count": 35,
   "metadata": {
    "ExecuteTime": {
     "end_time": "2019-05-27T22:04:28.490859Z",
     "start_time": "2019-05-27T22:04:28.418839Z"
    }
   },
   "outputs": [
    {
     "data": {
      "text/html": [
       "<div>\n",
       "<style scoped>\n",
       "    .dataframe tbody tr th:only-of-type {\n",
       "        vertical-align: middle;\n",
       "    }\n",
       "\n",
       "    .dataframe tbody tr th {\n",
       "        vertical-align: top;\n",
       "    }\n",
       "\n",
       "    .dataframe thead th {\n",
       "        text-align: right;\n",
       "    }\n",
       "</style>\n",
       "<table border=\"1\" class=\"dataframe\">\n",
       "  <thead>\n",
       "    <tr style=\"text-align: right;\">\n",
       "      <th></th>\n",
       "      <th>datetime</th>\n",
       "      <th>l_t1</th>\n",
       "      <th>l_t2</th>\n",
       "      <th>l_t3</th>\n",
       "      <th>l_t4</th>\n",
       "      <th>l_t5</th>\n",
       "      <th>l_t6</th>\n",
       "      <th>l_t7</th>\n",
       "      <th>f_pu1</th>\n",
       "      <th>s_pu1</th>\n",
       "      <th>...</th>\n",
       "      <th>p_j256</th>\n",
       "      <th>p_j289</th>\n",
       "      <th>p_j415</th>\n",
       "      <th>p_j302</th>\n",
       "      <th>p_j306</th>\n",
       "      <th>p_j307</th>\n",
       "      <th>p_j317</th>\n",
       "      <th>p_j14</th>\n",
       "      <th>p_j422</th>\n",
       "      <th>att_flag</th>\n",
       "    </tr>\n",
       "    <tr>\n",
       "      <th>h</th>\n",
       "      <th></th>\n",
       "      <th></th>\n",
       "      <th></th>\n",
       "      <th></th>\n",
       "      <th></th>\n",
       "      <th></th>\n",
       "      <th></th>\n",
       "      <th></th>\n",
       "      <th></th>\n",
       "      <th></th>\n",
       "      <th></th>\n",
       "      <th></th>\n",
       "      <th></th>\n",
       "      <th></th>\n",
       "      <th></th>\n",
       "      <th></th>\n",
       "      <th></th>\n",
       "      <th></th>\n",
       "      <th></th>\n",
       "      <th></th>\n",
       "      <th></th>\n",
       "    </tr>\n",
       "  </thead>\n",
       "  <tbody>\n",
       "    <tr>\n",
       "      <th>0</th>\n",
       "      <td>2014-01-06 00:00:00</td>\n",
       "      <td>0.509730</td>\n",
       "      <td>2.049003</td>\n",
       "      <td>3.191145</td>\n",
       "      <td>2.792634</td>\n",
       "      <td>2.656091</td>\n",
       "      <td>5.316831</td>\n",
       "      <td>1.562321</td>\n",
       "      <td>98.998444</td>\n",
       "      <td>1</td>\n",
       "      <td>...</td>\n",
       "      <td>87.605774</td>\n",
       "      <td>26.495605</td>\n",
       "      <td>84.206619</td>\n",
       "      <td>18.901676</td>\n",
       "      <td>81.983734</td>\n",
       "      <td>18.791777</td>\n",
       "      <td>67.125603</td>\n",
       "      <td>29.387470</td>\n",
       "      <td>28.487471</td>\n",
       "      <td>0</td>\n",
       "    </tr>\n",
       "    <tr>\n",
       "      <th>1</th>\n",
       "      <td>2014-01-06 01:00:00</td>\n",
       "      <td>0.412580</td>\n",
       "      <td>2.009072</td>\n",
       "      <td>3.642565</td>\n",
       "      <td>2.831673</td>\n",
       "      <td>3.126387</td>\n",
       "      <td>5.494855</td>\n",
       "      <td>1.852043</td>\n",
       "      <td>99.095901</td>\n",
       "      <td>1</td>\n",
       "      <td>...</td>\n",
       "      <td>89.448341</td>\n",
       "      <td>26.487326</td>\n",
       "      <td>85.900085</td>\n",
       "      <td>18.849329</td>\n",
       "      <td>82.150589</td>\n",
       "      <td>18.739643</td>\n",
       "      <td>67.178696</td>\n",
       "      <td>29.354256</td>\n",
       "      <td>28.454256</td>\n",
       "      <td>0</td>\n",
       "    </tr>\n",
       "    <tr>\n",
       "      <th>2</th>\n",
       "      <td>2014-01-06 02:00:00</td>\n",
       "      <td>0.320112</td>\n",
       "      <td>1.986093</td>\n",
       "      <td>4.140192</td>\n",
       "      <td>3.256733</td>\n",
       "      <td>3.574601</td>\n",
       "      <td>5.500000</td>\n",
       "      <td>2.246126</td>\n",
       "      <td>98.420959</td>\n",
       "      <td>1</td>\n",
       "      <td>...</td>\n",
       "      <td>91.056114</td>\n",
       "      <td>26.487364</td>\n",
       "      <td>86.582474</td>\n",
       "      <td>19.597170</td>\n",
       "      <td>83.988579</td>\n",
       "      <td>19.496712</td>\n",
       "      <td>72.425293</td>\n",
       "      <td>29.354538</td>\n",
       "      <td>28.454538</td>\n",
       "      <td>0</td>\n",
       "    </tr>\n",
       "    <tr>\n",
       "      <th>3</th>\n",
       "      <td>2014-01-06 03:00:00</td>\n",
       "      <td>0.332879</td>\n",
       "      <td>2.009203</td>\n",
       "      <td>4.673478</td>\n",
       "      <td>3.744497</td>\n",
       "      <td>3.952379</td>\n",
       "      <td>5.500000</td>\n",
       "      <td>3.203573</td>\n",
       "      <td>97.575172</td>\n",
       "      <td>1</td>\n",
       "      <td>...</td>\n",
       "      <td>92.594353</td>\n",
       "      <td>26.575815</td>\n",
       "      <td>88.020546</td>\n",
       "      <td>26.028486</td>\n",
       "      <td>64.670486</td>\n",
       "      <td>25.922703</td>\n",
       "      <td>76.275040</td>\n",
       "      <td>29.449951</td>\n",
       "      <td>28.549952</td>\n",
       "      <td>0</td>\n",
       "    </tr>\n",
       "    <tr>\n",
       "      <th>4</th>\n",
       "      <td>2014-01-06 04:00:00</td>\n",
       "      <td>0.483496</td>\n",
       "      <td>2.089049</td>\n",
       "      <td>5.237937</td>\n",
       "      <td>4.409456</td>\n",
       "      <td>3.504676</td>\n",
       "      <td>5.500000</td>\n",
       "      <td>4.439714</td>\n",
       "      <td>97.351059</td>\n",
       "      <td>1</td>\n",
       "      <td>...</td>\n",
       "      <td>94.473099</td>\n",
       "      <td>26.723457</td>\n",
       "      <td>90.422462</td>\n",
       "      <td>26.209970</td>\n",
       "      <td>64.746620</td>\n",
       "      <td>26.104692</td>\n",
       "      <td>76.703529</td>\n",
       "      <td>29.574265</td>\n",
       "      <td>28.674263</td>\n",
       "      <td>0</td>\n",
       "    </tr>\n",
       "  </tbody>\n",
       "</table>\n",
       "<p>5 rows × 45 columns</p>\n",
       "</div>"
      ],
      "text/plain": [
       "             datetime      l_t1      l_t2      l_t3      l_t4      l_t5  \\\n",
       "h                                                                         \n",
       "0 2014-01-06 00:00:00  0.509730  2.049003  3.191145  2.792634  2.656091   \n",
       "1 2014-01-06 01:00:00  0.412580  2.009072  3.642565  2.831673  3.126387   \n",
       "2 2014-01-06 02:00:00  0.320112  1.986093  4.140192  3.256733  3.574601   \n",
       "3 2014-01-06 03:00:00  0.332879  2.009203  4.673478  3.744497  3.952379   \n",
       "4 2014-01-06 04:00:00  0.483496  2.089049  5.237937  4.409456  3.504676   \n",
       "\n",
       "       l_t6      l_t7      f_pu1  s_pu1  ...     p_j256     p_j289     p_j415  \\\n",
       "h                                        ...                                    \n",
       "0  5.316831  1.562321  98.998444      1  ...  87.605774  26.495605  84.206619   \n",
       "1  5.494855  1.852043  99.095901      1  ...  89.448341  26.487326  85.900085   \n",
       "2  5.500000  2.246126  98.420959      1  ...  91.056114  26.487364  86.582474   \n",
       "3  5.500000  3.203573  97.575172      1  ...  92.594353  26.575815  88.020546   \n",
       "4  5.500000  4.439714  97.351059      1  ...  94.473099  26.723457  90.422462   \n",
       "\n",
       "      p_j302     p_j306     p_j307     p_j317      p_j14     p_j422  att_flag  \n",
       "h                                                                              \n",
       "0  18.901676  81.983734  18.791777  67.125603  29.387470  28.487471         0  \n",
       "1  18.849329  82.150589  18.739643  67.178696  29.354256  28.454256         0  \n",
       "2  19.597170  83.988579  19.496712  72.425293  29.354538  28.454538         0  \n",
       "3  26.028486  64.670486  25.922703  76.275040  29.449951  28.549952         0  \n",
       "4  26.209970  64.746620  26.104692  76.703529  29.574265  28.674263         0  \n",
       "\n",
       "[5 rows x 45 columns]"
      ]
     },
     "metadata": {},
     "output_type": "display_data"
    },
    {
     "data": {
      "text/html": [
       "<div>\n",
       "<style scoped>\n",
       "    .dataframe tbody tr th:only-of-type {\n",
       "        vertical-align: middle;\n",
       "    }\n",
       "\n",
       "    .dataframe tbody tr th {\n",
       "        vertical-align: top;\n",
       "    }\n",
       "\n",
       "    .dataframe thead th {\n",
       "        text-align: right;\n",
       "    }\n",
       "</style>\n",
       "<table border=\"1\" class=\"dataframe\">\n",
       "  <thead>\n",
       "    <tr style=\"text-align: right;\">\n",
       "      <th></th>\n",
       "      <th>datetime</th>\n",
       "      <th>l_t1</th>\n",
       "      <th>l_t2</th>\n",
       "      <th>l_t3</th>\n",
       "      <th>l_t4</th>\n",
       "      <th>l_t5</th>\n",
       "      <th>l_t6</th>\n",
       "      <th>l_t7</th>\n",
       "      <th>f_pu1</th>\n",
       "      <th>s_pu1</th>\n",
       "      <th>...</th>\n",
       "      <th>p_j256</th>\n",
       "      <th>p_j289</th>\n",
       "      <th>p_j415</th>\n",
       "      <th>p_j302</th>\n",
       "      <th>p_j306</th>\n",
       "      <th>p_j307</th>\n",
       "      <th>p_j317</th>\n",
       "      <th>p_j14</th>\n",
       "      <th>p_j422</th>\n",
       "      <th>att_flag</th>\n",
       "    </tr>\n",
       "    <tr>\n",
       "      <th>h</th>\n",
       "      <th></th>\n",
       "      <th></th>\n",
       "      <th></th>\n",
       "      <th></th>\n",
       "      <th></th>\n",
       "      <th></th>\n",
       "      <th></th>\n",
       "      <th></th>\n",
       "      <th></th>\n",
       "      <th></th>\n",
       "      <th></th>\n",
       "      <th></th>\n",
       "      <th></th>\n",
       "      <th></th>\n",
       "      <th></th>\n",
       "      <th></th>\n",
       "      <th></th>\n",
       "      <th></th>\n",
       "      <th></th>\n",
       "      <th></th>\n",
       "      <th></th>\n",
       "    </tr>\n",
       "  </thead>\n",
       "  <tbody>\n",
       "    <tr>\n",
       "      <th>0</th>\n",
       "      <td>2016-07-04 00:00:00</td>\n",
       "      <td>2.44</td>\n",
       "      <td>5.24</td>\n",
       "      <td>3.19</td>\n",
       "      <td>4.10</td>\n",
       "      <td>2.86</td>\n",
       "      <td>5.50</td>\n",
       "      <td>4.39</td>\n",
       "      <td>93.63</td>\n",
       "      <td>1.0</td>\n",
       "      <td>...</td>\n",
       "      <td>70.00</td>\n",
       "      <td>28.22</td>\n",
       "      <td>85.87</td>\n",
       "      <td>21.69</td>\n",
       "      <td>82.72</td>\n",
       "      <td>21.58</td>\n",
       "      <td>71.99</td>\n",
       "      <td>39.33</td>\n",
       "      <td>29.64</td>\n",
       "      <td>-999</td>\n",
       "    </tr>\n",
       "    <tr>\n",
       "      <th>1</th>\n",
       "      <td>2016-07-04 01:00:00</td>\n",
       "      <td>2.66</td>\n",
       "      <td>4.53</td>\n",
       "      <td>3.20</td>\n",
       "      <td>4.18</td>\n",
       "      <td>3.29</td>\n",
       "      <td>5.44</td>\n",
       "      <td>4.53</td>\n",
       "      <td>89.41</td>\n",
       "      <td>1.0</td>\n",
       "      <td>...</td>\n",
       "      <td>87.73</td>\n",
       "      <td>24.45</td>\n",
       "      <td>84.87</td>\n",
       "      <td>29.81</td>\n",
       "      <td>86.62</td>\n",
       "      <td>29.81</td>\n",
       "      <td>59.76</td>\n",
       "      <td>42.17</td>\n",
       "      <td>26.15</td>\n",
       "      <td>-999</td>\n",
       "    </tr>\n",
       "    <tr>\n",
       "      <th>2</th>\n",
       "      <td>2016-07-04 02:00:00</td>\n",
       "      <td>3.11</td>\n",
       "      <td>3.66</td>\n",
       "      <td>3.66</td>\n",
       "      <td>4.21</td>\n",
       "      <td>3.87</td>\n",
       "      <td>5.15</td>\n",
       "      <td>3.22</td>\n",
       "      <td>89.88</td>\n",
       "      <td>1.0</td>\n",
       "      <td>...</td>\n",
       "      <td>89.29</td>\n",
       "      <td>23.90</td>\n",
       "      <td>87.11</td>\n",
       "      <td>29.85</td>\n",
       "      <td>87.64</td>\n",
       "      <td>29.85</td>\n",
       "      <td>58.50</td>\n",
       "      <td>42.00</td>\n",
       "      <td>25.56</td>\n",
       "      <td>-999</td>\n",
       "    </tr>\n",
       "    <tr>\n",
       "      <th>3</th>\n",
       "      <td>2016-07-04 03:00:00</td>\n",
       "      <td>3.62</td>\n",
       "      <td>3.04</td>\n",
       "      <td>4.17</td>\n",
       "      <td>4.04</td>\n",
       "      <td>3.56</td>\n",
       "      <td>4.98</td>\n",
       "      <td>2.40</td>\n",
       "      <td>88.10</td>\n",
       "      <td>1.0</td>\n",
       "      <td>...</td>\n",
       "      <td>91.98</td>\n",
       "      <td>27.10</td>\n",
       "      <td>68.75</td>\n",
       "      <td>31.60</td>\n",
       "      <td>64.25</td>\n",
       "      <td>31.47</td>\n",
       "      <td>72.30</td>\n",
       "      <td>43.24</td>\n",
       "      <td>28.38</td>\n",
       "      <td>-999</td>\n",
       "    </tr>\n",
       "    <tr>\n",
       "      <th>4</th>\n",
       "      <td>2016-07-04 04:00:00</td>\n",
       "      <td>4.08</td>\n",
       "      <td>2.68</td>\n",
       "      <td>4.73</td>\n",
       "      <td>3.20</td>\n",
       "      <td>3.11</td>\n",
       "      <td>5.39</td>\n",
       "      <td>3.46</td>\n",
       "      <td>87.01</td>\n",
       "      <td>1.0</td>\n",
       "      <td>...</td>\n",
       "      <td>92.11</td>\n",
       "      <td>26.76</td>\n",
       "      <td>68.74</td>\n",
       "      <td>32.30</td>\n",
       "      <td>64.23</td>\n",
       "      <td>32.17</td>\n",
       "      <td>72.53</td>\n",
       "      <td>44.00</td>\n",
       "      <td>28.04</td>\n",
       "      <td>-999</td>\n",
       "    </tr>\n",
       "  </tbody>\n",
       "</table>\n",
       "<p>5 rows × 45 columns</p>\n",
       "</div>"
      ],
      "text/plain": [
       "             datetime  l_t1  l_t2  l_t3  l_t4  l_t5  l_t6  l_t7  f_pu1  s_pu1  \\\n",
       "h                                                                               \n",
       "0 2016-07-04 00:00:00  2.44  5.24  3.19  4.10  2.86  5.50  4.39  93.63    1.0   \n",
       "1 2016-07-04 01:00:00  2.66  4.53  3.20  4.18  3.29  5.44  4.53  89.41    1.0   \n",
       "2 2016-07-04 02:00:00  3.11  3.66  3.66  4.21  3.87  5.15  3.22  89.88    1.0   \n",
       "3 2016-07-04 03:00:00  3.62  3.04  4.17  4.04  3.56  4.98  2.40  88.10    1.0   \n",
       "4 2016-07-04 04:00:00  4.08  2.68  4.73  3.20  3.11  5.39  3.46  87.01    1.0   \n",
       "\n",
       "   ...  p_j256  p_j289  p_j415  p_j302  p_j306  p_j307  p_j317  p_j14  p_j422  \\\n",
       "h  ...                                                                          \n",
       "0  ...   70.00   28.22   85.87   21.69   82.72   21.58   71.99  39.33   29.64   \n",
       "1  ...   87.73   24.45   84.87   29.81   86.62   29.81   59.76  42.17   26.15   \n",
       "2  ...   89.29   23.90   87.11   29.85   87.64   29.85   58.50  42.00   25.56   \n",
       "3  ...   91.98   27.10   68.75   31.60   64.25   31.47   72.30  43.24   28.38   \n",
       "4  ...   92.11   26.76   68.74   32.30   64.23   32.17   72.53  44.00   28.04   \n",
       "\n",
       "   att_flag  \n",
       "h            \n",
       "0      -999  \n",
       "1      -999  \n",
       "2      -999  \n",
       "3      -999  \n",
       "4      -999  \n",
       "\n",
       "[5 rows x 45 columns]"
      ]
     },
     "metadata": {},
     "output_type": "display_data"
    }
   ],
   "source": [
    "from src.data import parse_to_df\n",
    "\n",
    "df_normal = parse_to_df(NORMAL)\n",
    "df_mixed = parse_to_df(MIXED)\n",
    "\n",
    "display(df_normal.head())\n",
    "display(df_mixed.head())\n",
    "\n",
    "# df_normal =  pd.read_csv(NORMAL, skipinitialspace=True)\n",
    "# df_mixed = pd.read_csv(MIXED, skipinitialspace=True)"
   ]
  },
  {
   "cell_type": "markdown",
   "metadata": {},
   "source": [
    "Harmonize the labels across the datasets to 0 / 1\n",
    "\n",
    "Label the data correctly according to BATADAL"
   ]
  },
  {
   "cell_type": "code",
   "execution_count": 36,
   "metadata": {
    "ExecuteTime": {
     "end_time": "2019-05-27T22:04:28.495346Z",
     "start_time": "2019-05-27T22:04:28.492085Z"
    }
   },
   "outputs": [
    {
     "data": {
      "text/plain": [
       "0    0\n",
       "1    0\n",
       "2    0\n",
       "3    0\n",
       "4    0\n",
       "Name: att_flag, dtype: int64"
      ]
     },
     "metadata": {},
     "output_type": "display_data"
    },
    {
     "data": {
      "text/plain": [
       "h\n",
       "0    False\n",
       "1    False\n",
       "2    False\n",
       "3    False\n",
       "4    False\n",
       "Name: att_flag, dtype: bool"
      ]
     },
     "metadata": {},
     "output_type": "display_data"
    },
    {
     "data": {
      "text/plain": [
       "0    0\n",
       "1    0\n",
       "2    0\n",
       "3    0\n",
       "4    0\n",
       "Name: att_flag, dtype: int64"
      ]
     },
     "metadata": {},
     "output_type": "display_data"
    },
    {
     "data": {
      "text/plain": [
       "h\n",
       "0    0\n",
       "1    0\n",
       "2    0\n",
       "3    0\n",
       "4    0\n",
       "Name: att_flag, dtype: int64"
      ]
     },
     "metadata": {},
     "output_type": "display_data"
    }
   ],
   "source": [
    "from src.data import label_data\n",
    "\n",
    "# Correct labels are now in flag\n",
    "df_mixed = label_data(df_mixed)\n",
    "\n",
    "# Drop the att_flag col\n",
    "# df_normal = df_normal.drop(['att_flag'], axis=1)\n",
    "df_mixed = df_mixed.drop(['att_flag'], axis=1)\n",
    "\n",
    "# Rename again to att_flag\n",
    "# df_normal = df_normal.rename({'flag': 'att_flag'})\n",
    "df_mixed = df_mixed.rename({'flag': 'att_flag'}, axis=1)\n",
    "\n",
    "display(df['att_flag'].head())\n",
    "display(df_mixed['att_flag'].head())\n",
    "\n",
    "df_mixed.att_flag.replace([False, True], [0, 1], inplace=True)\n",
    "\n",
    "display(df['att_flag'].head())\n",
    "display(df_mixed['att_flag'].head())\n"
   ]
  },
  {
   "cell_type": "markdown",
   "metadata": {},
   "source": [
    "Drop non-numeric columns, concatenate the dataframes.\n",
    "We train the autoencoder on the normal data from BATADAL_dataset03 and test on BATADAL_dataset04"
   ]
  },
  {
   "cell_type": "code",
   "execution_count": 42,
   "metadata": {
    "ExecuteTime": {
     "end_time": "2019-05-27T22:04:28.511711Z",
     "start_time": "2019-05-27T22:04:28.496963Z"
    }
   },
   "outputs": [],
   "source": [
    "df_normal = df_normal.drop(['datetime'], axis=1)\n",
    "df_mixed = df_mixed.drop(['datetime'], axis=1)\n",
    "\n",
    "# display(df_normal.head())\n",
    "# display(df_mixed.head())\n",
    "df = pd.concat([df_normal, df_mixed], ignore_index=True)\n"
   ]
  },
  {
   "cell_type": "markdown",
   "metadata": {},
   "source": [
    "Splitting into training, validation, testing, group into classes"
   ]
  },
  {
   "cell_type": "code",
   "execution_count": 43,
   "metadata": {
    "ExecuteTime": {
     "end_time": "2019-05-27T22:04:28.527210Z",
     "start_time": "2019-05-27T22:04:28.513596Z"
    }
   },
   "outputs": [],
   "source": [
    "df_train, df_test = train_test_split(df, test_size=DATA_SPLIT_PCT, random_state=SEED)\n",
    "df_train, df_valid = train_test_split(df_train, test_size=DATA_SPLIT_PCT, random_state=SEED)"
   ]
  },
  {
   "cell_type": "code",
   "execution_count": 44,
   "metadata": {
    "ExecuteTime": {
     "end_time": "2019-05-27T22:04:28.545427Z",
     "start_time": "2019-05-27T22:04:28.528427Z"
    }
   },
   "outputs": [],
   "source": [
    "df_train_0 = df_train.loc[df['att_flag'] == 0]\n",
    "df_train_1 = df_train.loc[df['att_flag'] == 1]\n",
    "\n",
    "df_train_0_x = df_train_0.drop(['att_flag'], axis=1)\n",
    "df_train_1_x = df_train_1.drop(['att_flag'], axis=1)\n",
    "\n",
    "\n",
    "df_valid_0 = df_valid.loc[df['att_flag'] == 0]\n",
    "df_valid_1 = df_valid.loc[df['att_flag'] == 1]\n",
    "\n",
    "df_valid_0_x = df_valid_0.drop(['att_flag'], axis=1)\n",
    "df_valid_1_x = df_valid_1.drop(['att_flag'], axis=1)\n",
    "\n",
    "\n",
    "df_test_0 = df_test.loc[df['att_flag'] == 0]\n",
    "df_test_1 = df_test.loc[df['att_flag'] == 1]\n",
    "\n",
    "df_test_0_x = df_test_0.drop(['att_flag'], axis=1)\n",
    "df_test_1_x = df_test_1.drop(['att_flag'], axis=1)"
   ]
  },
  {
   "cell_type": "markdown",
   "metadata": {},
   "source": [
    "Scale the data to 0-1 range"
   ]
  },
  {
   "cell_type": "code",
   "execution_count": 45,
   "metadata": {
    "ExecuteTime": {
     "end_time": "2019-05-27T22:04:28.564577Z",
     "start_time": "2019-05-27T22:04:28.547025Z"
    }
   },
   "outputs": [],
   "source": [
    "scaler = StandardScaler().fit(df_train_0_x)\n",
    "df_train_0_x_rescaled = scaler.transform(df_train_0_x)\n",
    "df_valid_0_x_rescaled = scaler.transform(df_valid_0_x)\n",
    "df_valid_x_rescaled = scaler.transform(df_valid.drop(['att_flag'], axis = 1))\n",
    "\n",
    "df_test_0_x_rescaled = scaler.transform(df_test_0_x)\n",
    "df_test_x_rescaled = scaler.transform(df_test.drop(['att_flag'], axis = 1))"
   ]
  },
  {
   "cell_type": "code",
   "execution_count": 46,
   "metadata": {},
   "outputs": [
    {
     "name": "stdout",
     "output_type": "stream",
     "text": [
      "[[ 0.96581487  1.25715148 -1.39229519 ...  0.44729619 -0.30434929\n",
      "   0.79627496]\n",
      " [-0.48522363 -1.58834884  0.73144963 ... -0.08565196 -1.19403832\n",
      "  -0.62412399]\n",
      " [-0.42222618  1.03460772  1.38501288 ...  0.58157136 -0.40185226\n",
      "   0.64061105]\n",
      " ...\n",
      " [ 0.56513004  0.49489182  0.9115085  ...  0.47095421 -0.53674551\n",
      "   0.42525168]\n",
      " [-1.58307606 -0.69833496 -0.35532858 ...  0.69672805 -0.97477839\n",
      "  -0.27407295]\n",
      " [ 0.87553969  1.13536638  1.62997767 ... -1.79880886  0.28256962\n",
      "   1.73329859]]\n"
     ]
    }
   ],
   "source": [
    "print(df_train_0_x_rescaled)"
   ]
  },
  {
   "cell_type": "markdown",
   "metadata": {},
   "source": [
    "## Set up a neural network with relu-encoder"
   ]
  },
  {
   "cell_type": "code",
   "execution_count": 47,
   "metadata": {
    "ExecuteTime": {
     "end_time": "2019-05-27T22:04:28.613962Z",
     "start_time": "2019-05-27T22:04:28.565802Z"
    }
   },
   "outputs": [],
   "source": [
    "nb_epoch = 100\n",
    "batch_size = 128\n",
    "input_dim = df_train_0_x_rescaled.shape[1] #num of predictor variables, \n",
    "encoding_dim = 16\n",
    "hidden_dim = int(encoding_dim / 2)\n",
    "learning_rate = 1e-3\n",
    "\n",
    "input_layer = Input(shape=(input_dim, ))\n",
    "encoder = Dense(encoding_dim, activation=\"tanh\", activity_regularizer=regularizers.l1(learning_rate))(input_layer)\n",
    "encoder = Dense(hidden_dim, activation=\"relu\")(encoder)\n",
    "decoder = Dense(hidden_dim, activation='tanh')(encoder)\n",
    "decoder = Dense(input_dim, activation='relu')(decoder)\n",
    "autoencoder = Model(inputs=input_layer, outputs=decoder)"
   ]
  },
  {
   "cell_type": "markdown",
   "metadata": {},
   "source": [
    "This requires pydot and graphviz installed"
   ]
  },
  {
   "cell_type": "code",
   "execution_count": 17,
   "metadata": {
    "ExecuteTime": {
     "end_time": "2019-05-27T22:04:28.674419Z",
     "start_time": "2019-05-27T22:04:28.615158Z"
    }
   },
   "outputs": [
    {
     "ename": "ImportError",
     "evalue": "Failed to import `pydot`. Please install `pydot`. For example with `pip install pydot`.",
     "output_type": "error",
     "traceback": [
      "\u001b[1;31m---------------------------------------------------------------------------\u001b[0m",
      "\u001b[1;31mImportError\u001b[0m                               Traceback (most recent call last)",
      "\u001b[1;32m<ipython-input-17-67dfaf9bb484>\u001b[0m in \u001b[0;36m<module>\u001b[1;34m\u001b[0m\n\u001b[0;32m      2\u001b[0m \u001b[1;32mfrom\u001b[0m \u001b[0mkeras\u001b[0m\u001b[1;33m.\u001b[0m\u001b[0mutils\u001b[0m\u001b[1;33m.\u001b[0m\u001b[0mvis_utils\u001b[0m \u001b[1;32mimport\u001b[0m \u001b[0mmodel_to_dot\u001b[0m\u001b[1;33m\u001b[0m\u001b[1;33m\u001b[0m\u001b[0m\n\u001b[0;32m      3\u001b[0m \u001b[1;33m\u001b[0m\u001b[0m\n\u001b[1;32m----> 4\u001b[1;33m \u001b[0mSVG\u001b[0m\u001b[1;33m(\u001b[0m\u001b[0mmodel_to_dot\u001b[0m\u001b[1;33m(\u001b[0m\u001b[0mautoencoder\u001b[0m\u001b[1;33m,\u001b[0m \u001b[0mshow_shapes\u001b[0m\u001b[1;33m=\u001b[0m\u001b[1;32mTrue\u001b[0m\u001b[1;33m,\u001b[0m \u001b[0mshow_layer_names\u001b[0m\u001b[1;33m=\u001b[0m\u001b[1;32mTrue\u001b[0m\u001b[1;33m)\u001b[0m\u001b[1;33m.\u001b[0m\u001b[0mcreate\u001b[0m\u001b[1;33m(\u001b[0m\u001b[0mprog\u001b[0m\u001b[1;33m=\u001b[0m\u001b[1;34m'dot'\u001b[0m\u001b[1;33m,\u001b[0m \u001b[0mformat\u001b[0m\u001b[1;33m=\u001b[0m\u001b[1;34m'svg'\u001b[0m\u001b[1;33m)\u001b[0m\u001b[1;33m)\u001b[0m\u001b[1;33m\u001b[0m\u001b[1;33m\u001b[0m\u001b[0m\n\u001b[0m",
      "\u001b[1;32m~\\Anaconda3\\envs\\cda\\lib\\site-packages\\keras\\utils\\vis_utils.py\u001b[0m in \u001b[0;36mmodel_to_dot\u001b[1;34m(model, show_shapes, show_layer_names, rankdir)\u001b[0m\n\u001b[0;32m     53\u001b[0m     \u001b[1;32mfrom\u001b[0m \u001b[1;33m.\u001b[0m\u001b[1;33m.\u001b[0m\u001b[0mmodels\u001b[0m \u001b[1;32mimport\u001b[0m \u001b[0mSequential\u001b[0m\u001b[1;33m\u001b[0m\u001b[1;33m\u001b[0m\u001b[0m\n\u001b[0;32m     54\u001b[0m \u001b[1;33m\u001b[0m\u001b[0m\n\u001b[1;32m---> 55\u001b[1;33m     \u001b[0m_check_pydot\u001b[0m\u001b[1;33m(\u001b[0m\u001b[1;33m)\u001b[0m\u001b[1;33m\u001b[0m\u001b[1;33m\u001b[0m\u001b[0m\n\u001b[0m\u001b[0;32m     56\u001b[0m     \u001b[0mdot\u001b[0m \u001b[1;33m=\u001b[0m \u001b[0mpydot\u001b[0m\u001b[1;33m.\u001b[0m\u001b[0mDot\u001b[0m\u001b[1;33m(\u001b[0m\u001b[1;33m)\u001b[0m\u001b[1;33m\u001b[0m\u001b[1;33m\u001b[0m\u001b[0m\n\u001b[0;32m     57\u001b[0m     \u001b[0mdot\u001b[0m\u001b[1;33m.\u001b[0m\u001b[0mset\u001b[0m\u001b[1;33m(\u001b[0m\u001b[1;34m'rankdir'\u001b[0m\u001b[1;33m,\u001b[0m \u001b[0mrankdir\u001b[0m\u001b[1;33m)\u001b[0m\u001b[1;33m\u001b[0m\u001b[1;33m\u001b[0m\u001b[0m\n",
      "\u001b[1;32m~\\Anaconda3\\envs\\cda\\lib\\site-packages\\keras\\utils\\vis_utils.py\u001b[0m in \u001b[0;36m_check_pydot\u001b[1;34m()\u001b[0m\n\u001b[0;32m     18\u001b[0m     \u001b[1;32mif\u001b[0m \u001b[0mpydot\u001b[0m \u001b[1;32mis\u001b[0m \u001b[1;32mNone\u001b[0m\u001b[1;33m:\u001b[0m\u001b[1;33m\u001b[0m\u001b[1;33m\u001b[0m\u001b[0m\n\u001b[0;32m     19\u001b[0m         raise ImportError(\n\u001b[1;32m---> 20\u001b[1;33m             \u001b[1;34m'Failed to import `pydot`. '\u001b[0m\u001b[1;33m\u001b[0m\u001b[1;33m\u001b[0m\u001b[0m\n\u001b[0m\u001b[0;32m     21\u001b[0m             \u001b[1;34m'Please install `pydot`. '\u001b[0m\u001b[1;33m\u001b[0m\u001b[1;33m\u001b[0m\u001b[0m\n\u001b[0;32m     22\u001b[0m             'For example with `pip install pydot`.')\n",
      "\u001b[1;31mImportError\u001b[0m: Failed to import `pydot`. Please install `pydot`. For example with `pip install pydot`."
     ]
    }
   ],
   "source": [
    "from IPython.display import SVG\n",
    "from keras.utils.vis_utils import model_to_dot\n",
    "\n",
    "SVG(model_to_dot(autoencoder, show_shapes=True, show_layer_names=True).create(prog='dot', format='svg'))"
   ]
  },
  {
   "cell_type": "markdown",
   "metadata": {},
   "source": [
    "## Train the network"
   ]
  },
  {
   "cell_type": "code",
   "execution_count": 48,
   "metadata": {
    "ExecuteTime": {
     "end_time": "2019-05-27T22:04:45.768099Z",
     "start_time": "2019-05-27T22:04:28.675989Z"
    }
   },
   "outputs": [
    {
     "name": "stdout",
     "output_type": "stream",
     "text": [
      "Train on 7969 samples, validate on 1994 samples\n",
      "Epoch 1/100\n",
      "7969/7969 [==============================] - 0s 42us/step - loss: 1.8370 - acc: 0.0414 - val_loss: 1.5874 - val_acc: 0.0747\n",
      "Epoch 2/100\n",
      "7969/7969 [==============================] - 0s 15us/step - loss: 1.4511 - acc: 0.0688 - val_loss: 1.2342 - val_acc: 0.0707\n",
      "Epoch 3/100\n",
      "7969/7969 [==============================] - 0s 16us/step - loss: 1.1347 - acc: 0.0730 - val_loss: 0.9777 - val_acc: 0.0792\n",
      "Epoch 4/100\n",
      "7969/7969 [==============================] - 0s 18us/step - loss: 0.9448 - acc: 0.0617 - val_loss: 0.8575 - val_acc: 0.0572\n",
      "Epoch 5/100\n",
      "7969/7969 [==============================] - 0s 16us/step - loss: 0.8634 - acc: 0.0553 - val_loss: 0.8048 - val_acc: 0.0933\n",
      "Epoch 6/100\n",
      "7969/7969 [==============================] - 0s 13us/step - loss: 0.8201 - acc: 0.1331 - val_loss: 0.7714 - val_acc: 0.1625\n",
      "Epoch 7/100\n",
      "7969/7969 [==============================] - 0s 14us/step - loss: 0.7904 - acc: 0.1841 - val_loss: 0.7467 - val_acc: 0.1856\n",
      "Epoch 8/100\n",
      "7969/7969 [==============================] - 0s 13us/step - loss: 0.7684 - acc: 0.2116 - val_loss: 0.7288 - val_acc: 0.2182\n",
      "Epoch 9/100\n",
      "7969/7969 [==============================] - 0s 14us/step - loss: 0.7521 - acc: 0.2324 - val_loss: 0.7167 - val_acc: 0.2307\n",
      "Epoch 10/100\n",
      "7969/7969 [==============================] - 0s 14us/step - loss: 0.7408 - acc: 0.2394 - val_loss: 0.7071 - val_acc: 0.2377\n",
      "Epoch 11/100\n",
      "7969/7969 [==============================] - 0s 14us/step - loss: 0.7316 - acc: 0.2408 - val_loss: 0.7006 - val_acc: 0.2432\n",
      "Epoch 12/100\n",
      "7969/7969 [==============================] - 0s 14us/step - loss: 0.7246 - acc: 0.2373 - val_loss: 0.6937 - val_acc: 0.2131\n",
      "Epoch 13/100\n",
      "7969/7969 [==============================] - 0s 14us/step - loss: 0.7185 - acc: 0.2308 - val_loss: 0.6897 - val_acc: 0.2317\n",
      "Epoch 14/100\n",
      "7969/7969 [==============================] - 0s 14us/step - loss: 0.7143 - acc: 0.2290 - val_loss: 0.6886 - val_acc: 0.2182\n",
      "Epoch 15/100\n",
      "7969/7969 [==============================] - 0s 13us/step - loss: 0.7098 - acc: 0.2266 - val_loss: 0.6848 - val_acc: 0.2026\n",
      "Epoch 16/100\n",
      "7969/7969 [==============================] - 0s 15us/step - loss: 0.7066 - acc: 0.2200 - val_loss: 0.6802 - val_acc: 0.2272\n",
      "Epoch 17/100\n",
      "7969/7969 [==============================] - 0s 14us/step - loss: 0.7039 - acc: 0.2299 - val_loss: 0.6830 - val_acc: 0.2001\n",
      "Epoch 18/100\n",
      "7969/7969 [==============================] - 0s 15us/step - loss: 0.7012 - acc: 0.2268 - val_loss: 0.6761 - val_acc: 0.2237\n",
      "Epoch 19/100\n",
      "7969/7969 [==============================] - 0s 14us/step - loss: 0.6986 - acc: 0.2373 - val_loss: 0.6751 - val_acc: 0.2412\n",
      "Epoch 20/100\n",
      "7969/7969 [==============================] - 0s 16us/step - loss: 0.6955 - acc: 0.2345 - val_loss: 0.6725 - val_acc: 0.2232\n",
      "Epoch 21/100\n",
      "7969/7969 [==============================] - 0s 14us/step - loss: 0.6934 - acc: 0.2315 - val_loss: 0.6714 - val_acc: 0.1946\n",
      "Epoch 22/100\n",
      "7969/7969 [==============================] - 0s 17us/step - loss: 0.6914 - acc: 0.2210 - val_loss: 0.6708 - val_acc: 0.2051\n",
      "Epoch 23/100\n",
      "7969/7969 [==============================] - 0s 19us/step - loss: 0.6895 - acc: 0.2293 - val_loss: 0.6692 - val_acc: 0.2121\n",
      "Epoch 24/100\n",
      "7969/7969 [==============================] - 0s 17us/step - loss: 0.6874 - acc: 0.2265 - val_loss: 0.6669 - val_acc: 0.2442\n",
      "Epoch 25/100\n",
      "7969/7969 [==============================] - 0s 16us/step - loss: 0.6835 - acc: 0.2363 - val_loss: 0.6612 - val_acc: 0.2427\n",
      "Epoch 26/100\n",
      "7969/7969 [==============================] - 0s 13us/step - loss: 0.6785 - acc: 0.2343 - val_loss: 0.6591 - val_acc: 0.2252\n",
      "Epoch 27/100\n",
      "7969/7969 [==============================] - 0s 15us/step - loss: 0.6763 - acc: 0.2311 - val_loss: 0.6558 - val_acc: 0.2187\n",
      "Epoch 28/100\n",
      "7969/7969 [==============================] - 0s 16us/step - loss: 0.6734 - acc: 0.2383 - val_loss: 0.6586 - val_acc: 0.2106\n",
      "Epoch 29/100\n",
      "7969/7969 [==============================] - 0s 16us/step - loss: 0.6725 - acc: 0.2334 - val_loss: 0.6550 - val_acc: 0.2156\n",
      "Epoch 30/100\n",
      "7969/7969 [==============================] - 0s 14us/step - loss: 0.6721 - acc: 0.2394 - val_loss: 0.6542 - val_acc: 0.2202\n",
      "Epoch 31/100\n",
      "7969/7969 [==============================] - 0s 13us/step - loss: 0.6689 - acc: 0.2370 - val_loss: 0.6523 - val_acc: 0.2347\n",
      "Epoch 32/100\n",
      "7969/7969 [==============================] - 0s 17us/step - loss: 0.6678 - acc: 0.2399 - val_loss: 0.6520 - val_acc: 0.2482\n",
      "Epoch 33/100\n",
      "7969/7969 [==============================] - 0s 15us/step - loss: 0.6658 - acc: 0.2429 - val_loss: 0.6536 - val_acc: 0.2628\n",
      "Epoch 34/100\n",
      "7969/7969 [==============================] - 0s 17us/step - loss: 0.6646 - acc: 0.2501 - val_loss: 0.6520 - val_acc: 0.2116\n",
      "Epoch 35/100\n",
      "7969/7969 [==============================] - 0s 14us/step - loss: 0.6639 - acc: 0.2580 - val_loss: 0.6493 - val_acc: 0.2533\n",
      "Epoch 36/100\n",
      "7969/7969 [==============================] - 0s 17us/step - loss: 0.6620 - acc: 0.2674 - val_loss: 0.6477 - val_acc: 0.2598\n",
      "Epoch 37/100\n",
      "7969/7969 [==============================] - 0s 14us/step - loss: 0.6601 - acc: 0.2777 - val_loss: 0.6465 - val_acc: 0.2753\n",
      "Epoch 38/100\n",
      "7969/7969 [==============================] - 0s 17us/step - loss: 0.6579 - acc: 0.2916 - val_loss: 0.6452 - val_acc: 0.2884\n",
      "Epoch 39/100\n",
      "7969/7969 [==============================] - 0s 14us/step - loss: 0.6558 - acc: 0.3064 - val_loss: 0.6421 - val_acc: 0.2954\n",
      "Epoch 40/100\n",
      "7969/7969 [==============================] - 0s 15us/step - loss: 0.6541 - acc: 0.3074 - val_loss: 0.6411 - val_acc: 0.2999\n",
      "Epoch 41/100\n",
      "7969/7969 [==============================] - 0s 14us/step - loss: 0.6521 - acc: 0.3158 - val_loss: 0.6389 - val_acc: 0.3079\n",
      "Epoch 42/100\n",
      "7969/7969 [==============================] - 0s 15us/step - loss: 0.6505 - acc: 0.3155 - val_loss: 0.6385 - val_acc: 0.3210\n",
      "Epoch 43/100\n",
      "7969/7969 [==============================] - 0s 14us/step - loss: 0.6499 - acc: 0.3195 - val_loss: 0.6406 - val_acc: 0.3215\n",
      "Epoch 44/100\n",
      "7969/7969 [==============================] - 0s 13us/step - loss: 0.6487 - acc: 0.3186 - val_loss: 0.6377 - val_acc: 0.3215\n",
      "Epoch 45/100\n",
      "7969/7969 [==============================] - 0s 15us/step - loss: 0.6469 - acc: 0.3226 - val_loss: 0.6360 - val_acc: 0.2969\n",
      "Epoch 46/100\n",
      "7969/7969 [==============================] - 0s 15us/step - loss: 0.6454 - acc: 0.3180 - val_loss: 0.6354 - val_acc: 0.3074\n",
      "Epoch 47/100\n",
      "7969/7969 [==============================] - 0s 15us/step - loss: 0.6442 - acc: 0.3152 - val_loss: 0.6344 - val_acc: 0.3159\n",
      "Epoch 48/100\n",
      "7969/7969 [==============================] - 0s 14us/step - loss: 0.6424 - acc: 0.3150 - val_loss: 0.6338 - val_acc: 0.2844\n",
      "Epoch 49/100\n",
      "7969/7969 [==============================] - 0s 13us/step - loss: 0.6407 - acc: 0.3067 - val_loss: 0.6312 - val_acc: 0.2849\n",
      "Epoch 50/100\n",
      "7969/7969 [==============================] - 0s 14us/step - loss: 0.6395 - acc: 0.3013 - val_loss: 0.6327 - val_acc: 0.2859\n",
      "Epoch 51/100\n",
      "7969/7969 [==============================] - 0s 15us/step - loss: 0.6375 - acc: 0.2990 - val_loss: 0.6290 - val_acc: 0.2884\n",
      "Epoch 52/100\n",
      "7969/7969 [==============================] - 0s 13us/step - loss: 0.6349 - acc: 0.3017 - val_loss: 0.6281 - val_acc: 0.3069\n",
      "Epoch 53/100\n",
      "7969/7969 [==============================] - 0s 14us/step - loss: 0.6336 - acc: 0.3013 - val_loss: 0.6274 - val_acc: 0.3049\n",
      "Epoch 54/100\n",
      "7969/7969 [==============================] - 0s 17us/step - loss: 0.6331 - acc: 0.3037 - val_loss: 0.6254 - val_acc: 0.2879\n",
      "Epoch 55/100\n",
      "7969/7969 [==============================] - 0s 13us/step - loss: 0.6307 - acc: 0.3091 - val_loss: 0.6227 - val_acc: 0.2844\n",
      "Epoch 56/100\n",
      "7969/7969 [==============================] - 0s 13us/step - loss: 0.6296 - acc: 0.3166 - val_loss: 0.6233 - val_acc: 0.3119\n",
      "Epoch 57/100\n",
      "7969/7969 [==============================] - 0s 13us/step - loss: 0.6283 - acc: 0.3211 - val_loss: 0.6204 - val_acc: 0.3044\n",
      "Epoch 58/100\n",
      "7969/7969 [==============================] - 0s 14us/step - loss: 0.6263 - acc: 0.3308 - val_loss: 0.6211 - val_acc: 0.3245\n",
      "Epoch 59/100\n",
      "7969/7969 [==============================] - 0s 16us/step - loss: 0.6254 - acc: 0.3271 - val_loss: 0.6216 - val_acc: 0.3004\n",
      "Epoch 60/100\n",
      "7969/7969 [==============================] - 0s 17us/step - loss: 0.6243 - acc: 0.3374 - val_loss: 0.6196 - val_acc: 0.3210\n",
      "Epoch 61/100\n",
      "7969/7969 [==============================] - 0s 14us/step - loss: 0.6231 - acc: 0.3417 - val_loss: 0.6182 - val_acc: 0.3230\n",
      "Epoch 62/100\n",
      "7969/7969 [==============================] - 0s 17us/step - loss: 0.6233 - acc: 0.3414 - val_loss: 0.6155 - val_acc: 0.3541\n",
      "Epoch 63/100\n",
      "7969/7969 [==============================] - 0s 16us/step - loss: 0.6198 - acc: 0.3506 - val_loss: 0.6125 - val_acc: 0.3355\n",
      "Epoch 64/100\n",
      "7969/7969 [==============================] - 0s 16us/step - loss: 0.6156 - acc: 0.3581 - val_loss: 0.6116 - val_acc: 0.3601\n",
      "Epoch 65/100\n",
      "7969/7969 [==============================] - 0s 15us/step - loss: 0.6139 - acc: 0.3578 - val_loss: 0.6087 - val_acc: 0.3766\n",
      "Epoch 66/100\n",
      "7969/7969 [==============================] - 0s 14us/step - loss: 0.6115 - acc: 0.3792 - val_loss: 0.6075 - val_acc: 0.3671\n",
      "Epoch 67/100\n",
      "7969/7969 [==============================] - 0s 16us/step - loss: 0.6102 - acc: 0.3955 - val_loss: 0.6048 - val_acc: 0.4228\n",
      "Epoch 68/100\n",
      "7969/7969 [==============================] - 0s 17us/step - loss: 0.6080 - acc: 0.4101 - val_loss: 0.6024 - val_acc: 0.4107\n",
      "Epoch 69/100\n",
      "7969/7969 [==============================] - 0s 15us/step - loss: 0.6071 - acc: 0.4205 - val_loss: 0.6050 - val_acc: 0.3997\n",
      "Epoch 70/100\n",
      "7969/7969 [==============================] - 0s 17us/step - loss: 0.6070 - acc: 0.4200 - val_loss: 0.6024 - val_acc: 0.4112\n",
      "Epoch 71/100\n",
      "7969/7969 [==============================] - 0s 14us/step - loss: 0.6049 - acc: 0.4388 - val_loss: 0.6011 - val_acc: 0.4408\n",
      "Epoch 72/100\n",
      "7969/7969 [==============================] - 0s 15us/step - loss: 0.6041 - acc: 0.4418 - val_loss: 0.6026 - val_acc: 0.4353\n",
      "Epoch 73/100\n",
      "7969/7969 [==============================] - 0s 14us/step - loss: 0.6028 - acc: 0.4528 - val_loss: 0.5986 - val_acc: 0.4298\n",
      "Epoch 74/100\n",
      "7969/7969 [==============================] - 0s 13us/step - loss: 0.6020 - acc: 0.4518 - val_loss: 0.5998 - val_acc: 0.4789\n",
      "Epoch 75/100\n",
      "7969/7969 [==============================] - 0s 14us/step - loss: 0.6024 - acc: 0.4535 - val_loss: 0.5992 - val_acc: 0.4764\n",
      "Epoch 76/100\n",
      "7969/7969 [==============================] - 0s 16us/step - loss: 0.6010 - acc: 0.4560 - val_loss: 0.5992 - val_acc: 0.4524\n",
      "Epoch 77/100\n",
      "7969/7969 [==============================] - 0s 17us/step - loss: 0.6000 - acc: 0.4715 - val_loss: 0.5957 - val_acc: 0.4544\n",
      "Epoch 78/100\n",
      "7969/7969 [==============================] - 0s 12us/step - loss: 0.5996 - acc: 0.4646 - val_loss: 0.5989 - val_acc: 0.4659\n",
      "Epoch 79/100\n",
      "7969/7969 [==============================] - 0s 13us/step - loss: 0.5995 - acc: 0.4720 - val_loss: 0.5967 - val_acc: 0.4804\n",
      "Epoch 80/100\n",
      "7969/7969 [==============================] - 0s 16us/step - loss: 0.5991 - acc: 0.4689 - val_loss: 0.5953 - val_acc: 0.4739\n",
      "Epoch 81/100\n",
      "7969/7969 [==============================] - 0s 14us/step - loss: 0.5976 - acc: 0.4760 - val_loss: 0.5951 - val_acc: 0.4609\n",
      "Epoch 82/100\n",
      "7969/7969 [==============================] - 0s 16us/step - loss: 0.5981 - acc: 0.4742 - val_loss: 0.5958 - val_acc: 0.4323\n",
      "Epoch 83/100\n",
      "7969/7969 [==============================] - 0s 15us/step - loss: 0.5971 - acc: 0.4750 - val_loss: 0.5969 - val_acc: 0.4749\n",
      "Epoch 84/100\n",
      "7969/7969 [==============================] - 0s 14us/step - loss: 0.5972 - acc: 0.4755 - val_loss: 0.5957 - val_acc: 0.4910\n",
      "Epoch 85/100\n",
      "7969/7969 [==============================] - 0s 14us/step - loss: 0.5971 - acc: 0.4726 - val_loss: 0.5966 - val_acc: 0.4453\n",
      "Epoch 86/100\n",
      "7969/7969 [==============================] - 0s 14us/step - loss: 0.5953 - acc: 0.4773 - val_loss: 0.5942 - val_acc: 0.4910\n",
      "Epoch 87/100\n",
      "7969/7969 [==============================] - 0s 13us/step - loss: 0.5946 - acc: 0.4889 - val_loss: 0.5932 - val_acc: 0.4875\n",
      "Epoch 88/100\n",
      "7969/7969 [==============================] - 0s 16us/step - loss: 0.5955 - acc: 0.4891 - val_loss: 0.5933 - val_acc: 0.4845\n",
      "Epoch 89/100\n",
      "7969/7969 [==============================] - 0s 17us/step - loss: 0.5948 - acc: 0.4825 - val_loss: 0.5929 - val_acc: 0.4990\n",
      "Epoch 90/100\n",
      "7969/7969 [==============================] - 0s 16us/step - loss: 0.5940 - acc: 0.4914 - val_loss: 0.5929 - val_acc: 0.4824\n",
      "Epoch 91/100\n",
      "7969/7969 [==============================] - 0s 14us/step - loss: 0.5938 - acc: 0.4863 - val_loss: 0.5928 - val_acc: 0.4749\n",
      "Epoch 92/100\n",
      "7969/7969 [==============================] - 0s 16us/step - loss: 0.5938 - acc: 0.4885 - val_loss: 0.5949 - val_acc: 0.4855\n",
      "Epoch 93/100\n",
      "7969/7969 [==============================] - 0s 15us/step - loss: 0.5935 - acc: 0.4959 - val_loss: 0.5898 - val_acc: 0.5321\n",
      "Epoch 94/100\n",
      "7969/7969 [==============================] - 0s 18us/step - loss: 0.5926 - acc: 0.4954 - val_loss: 0.5919 - val_acc: 0.4709\n",
      "Epoch 95/100\n",
      "7969/7969 [==============================] - 0s 15us/step - loss: 0.5920 - acc: 0.4991 - val_loss: 0.5937 - val_acc: 0.5015\n",
      "Epoch 96/100\n",
      "7969/7969 [==============================] - 0s 13us/step - loss: 0.5922 - acc: 0.4883 - val_loss: 0.5916 - val_acc: 0.5075\n",
      "Epoch 97/100\n",
      "7969/7969 [==============================] - 0s 14us/step - loss: 0.5911 - acc: 0.5028 - val_loss: 0.5901 - val_acc: 0.5246\n",
      "Epoch 98/100\n",
      "7969/7969 [==============================] - 0s 14us/step - loss: 0.5904 - acc: 0.4969 - val_loss: 0.5893 - val_acc: 0.5160\n",
      "Epoch 99/100\n",
      "7969/7969 [==============================] - 0s 14us/step - loss: 0.5901 - acc: 0.5043 - val_loss: 0.5882 - val_acc: 0.5040\n",
      "Epoch 100/100\n",
      "7969/7969 [==============================] - 0s 14us/step - loss: 0.5889 - acc: 0.5053 - val_loss: 0.5876 - val_acc: 0.4995\n"
     ]
    }
   ],
   "source": [
    "autoencoder.compile(metrics=['accuracy'],\n",
    "                    loss='mean_squared_error',\n",
    "                    optimizer='adam')\n",
    "# autoencoder.compile(metrics=['accuracy'],\n",
    "#                     loss='mean_squared_error',\n",
    "#                     optimizer='rmsprop')\n",
    "\n",
    "cp = ModelCheckpoint(filepath=\"autoencoder_classifier.h5\",\n",
    "                               save_best_only=True,\n",
    "                               verbose=0)\n",
    "\n",
    "tb = TensorBoard(log_dir='./logs',\n",
    "                histogram_freq=0,\n",
    "                write_graph=True,\n",
    "                write_images=True)\n",
    "\n",
    "history = autoencoder.fit(df_train_0_x_rescaled, df_train_0_x_rescaled,\n",
    "                    epochs=nb_epoch,\n",
    "                    batch_size=batch_size,\n",
    "                    shuffle=True,\n",
    "                    validation_data=(df_valid_0_x_rescaled, df_valid_0_x_rescaled),\n",
    "                    verbose=1,\n",
    "                    callbacks=[cp, tb]).history"
   ]
  },
  {
   "cell_type": "markdown",
   "metadata": {},
   "source": [
    "## Validate "
   ]
  },
  {
   "cell_type": "code",
   "execution_count": 49,
   "metadata": {
    "ExecuteTime": {
     "end_time": "2019-05-27T22:04:45.949468Z",
     "start_time": "2019-05-27T22:04:45.769509Z"
    }
   },
   "outputs": [
    {
     "data": {
      "image/png": "[encoded data removed]",
      "text/plain": [
       "<Figure size 432x288 with 1 Axes>"
      ]
     },
     "metadata": {
      "needs_background": "light"
     },
     "output_type": "display_data"
    }
   ],
   "source": [
    "valid_x_predictions = autoencoder.predict(df_valid_x_rescaled)\n",
    "mse = np.mean(np.power(df_valid_x_rescaled - valid_x_predictions, 2), axis=1)\n",
    "error_df = pd.DataFrame({'Reconstruction_error': mse,\n",
    "                        'True_class': df_valid['att_flag'] == 1})\n",
    "\n",
    "precision_rt, recall_rt, threshold_rt = precision_recall_curve(error_df.True_class, error_df.Reconstruction_error)\n",
    "plt.plot(threshold_rt, precision_rt[1:], label=\"Precision\",linewidth=5)\n",
    "plt.plot(threshold_rt, recall_rt[1:], label=\"Recall\",linewidth=5)\n",
    "plt.title('Precision and recall for different threshold values')\n",
    "plt.xlabel('Threshold / reconstruction error')\n",
    "plt.ylabel('Precision/Recall')\n",
    "plt.legend()\n",
    "plt.show()"
   ]
  },
  {
   "cell_type": "markdown",
   "metadata": {},
   "source": [
    "## Evaluate on testing\n",
    "\n",
    "based on the above plot, choose a fixed threshold when the reconstruction error is too large"
   ]
  },
  {
   "cell_type": "code",
   "execution_count": 57,
   "metadata": {
    "ExecuteTime": {
     "end_time": "2019-05-27T22:04:46.125354Z",
     "start_time": "2019-05-27T22:04:45.951432Z"
    }
   },
   "outputs": [
    {
     "data": {
      "image/png": "[encoded data removed]",
      "text/plain": [
       "<Figure size 432x288 with 1 Axes>"
      ]
     },
     "metadata": {
      "needs_background": "light"
     },
     "output_type": "display_data"
    }
   ],
   "source": [
    "threshold_fixed = 2\n",
    "\n",
    "\n",
    "test_x_predictions = autoencoder.predict(df_test_x_rescaled)\n",
    "mse = np.mean(np.power(df_test_x_rescaled - test_x_predictions, 2), axis=1)\n",
    "error_df_test = pd.DataFrame({'Reconstruction_error': mse,\n",
    "                        'True_class': df_test['att_flag']})\n",
    "error_df_test = error_df_test.reset_index()\n",
    "\n",
    "groups = error_df_test.groupby('True_class')\n",
    "\n",
    "fig, ax = plt.subplots()\n",
    "\n",
    "for name, group in groups:\n",
    "    ax.plot(group.index, group.Reconstruction_error, marker='o', ms=3.5, linestyle='',\n",
    "            label= \"Attack\" if name == 1 else \"Normal\")\n",
    "ax.hlines(threshold_fixed, ax.get_xlim()[0], ax.get_xlim()[1], colors=\"r\", zorder=100, label='Threshold')\n",
    "ax.legend()\n",
    "plt.title(\"Reconstruction error for different classes\")\n",
    "plt.ylabel(\"Reconstruction error\")\n",
    "plt.xlabel(\"Data point index\")\n",
    "plt.show();"
   ]
  },
  {
   "cell_type": "markdown",
   "metadata": {},
   "source": [
    "### Use autoencoder to predict outliers\n",
    "\n",
    "Predict *attack* label if reconstruction error larger than the chosen threshold"
   ]
  },
  {
   "cell_type": "code",
   "execution_count": 58,
   "metadata": {
    "ExecuteTime": {
     "end_time": "2019-05-27T22:04:46.261639Z",
     "start_time": "2019-05-27T22:04:46.126878Z"
    }
   },
   "outputs": [
    {
     "data": {
      "image/png": "[encoded data removed]",
      "text/plain": [
       "<Figure size 864x864 with 2 Axes>"
      ]
     },
     "metadata": {
      "needs_background": "light"
     },
     "output_type": "display_data"
    }
   ],
   "source": [
    "pred_y = [1 if e > threshold_fixed else 0 for e in error_df.Reconstruction_error.values]\n",
    "\n",
    "conf_matrix = confusion_matrix(error_df.True_class, pred_y)\n",
    "\n",
    "plt.figure(figsize=(12, 12))\n",
    "sns.heatmap(conf_matrix, xticklabels=LABELS, yticklabels=LABELS, annot=True, fmt=\"d\");\n",
    "plt.title(\"Confusion matrix\")\n",
    "plt.ylabel('True class')\n",
    "plt.xlabel('Predicted class')\n",
    "plt.show()"
   ]
  },
  {
   "cell_type": "markdown",
   "metadata": {},
   "source": [
    "Plot the ROC curve for the chosen threshold"
   ]
  },
  {
   "cell_type": "code",
   "execution_count": 59,
   "metadata": {
    "ExecuteTime": {
     "end_time": "2019-05-27T22:04:46.390614Z",
     "start_time": "2019-05-27T22:04:46.265629Z"
    }
   },
   "outputs": [
    {
     "data": {
      "image/png": "[encoded data removed]",
      "text/plain": [
       "<Figure size 432x288 with 1 Axes>"
      ]
     },
     "metadata": {
      "needs_background": "light"
     },
     "output_type": "display_data"
    }
   ],
   "source": [
    "false_pos_rate, true_pos_rate, thresholds = roc_curve(error_df.True_class, error_df.Reconstruction_error)\n",
    "roc_auc = auc(false_pos_rate, true_pos_rate,)\n",
    "\n",
    "plt.plot(false_pos_rate, true_pos_rate, linewidth=5, label='AUC = %0.3f'% roc_auc)\n",
    "plt.plot([0,1],[0,1], linewidth=5)\n",
    "\n",
    "plt.xlim([-0.01, 1])\n",
    "plt.ylim([0, 1.01])\n",
    "plt.legend(loc='lower right')\n",
    "plt.title('Receiver operating characteristic curve (ROC)')\n",
    "plt.ylabel('True Positive Rate')\n",
    "plt.xlabel('False Positive Rate')\n",
    "plt.show()"
   ]
  },
  {
   "cell_type": "code",
   "execution_count": null,
   "metadata": {},
   "outputs": [],
   "source": []
  }
 ],
 "metadata": {
  "kernelspec": {
   "display_name": "Python [conda env:cda]",
   "language": "python",
   "name": "conda-env-cda-py"
  },
  "language_info": {
   "codemirror_mode": {
    "name": "ipython",
    "version": 3
   },
   "file_extension": ".py",
   "mimetype": "text/x-python",
   "name": "python",
   "nbconvert_exporter": "python",
   "pygments_lexer": "ipython3",
   "version": "3.7.1"
  }
 },
 "nbformat": 4,
 "nbformat_minor": 2
}
