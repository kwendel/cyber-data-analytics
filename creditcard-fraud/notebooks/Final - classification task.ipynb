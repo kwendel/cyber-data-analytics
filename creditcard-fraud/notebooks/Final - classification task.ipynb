{
 "cells": [
  {
   "cell_type": "code",
   "execution_count": 53,
   "metadata": {},
   "outputs": [
    {
     "name": "stdout",
     "output_type": "stream",
     "text": [
      "The autoreload extension is already loaded. To reload it, use:\n",
      "  %reload_ext autoreload\n"
     ]
    }
   ],
   "source": [
    "%load_ext autoreload\n",
    "%autoreload 2\n",
    "\n",
    "import sys\n",
    "sys.path.append('../')\n",
    "\n",
    "from src import classifiers, preprocess\n",
    "from sklearn.preprocessing import OneHotEncoder\n",
    "import numpy as np\n",
    "\n",
    "df = classifiers.prep()"
   ]
  },
  {
   "cell_type": "code",
   "execution_count": 54,
   "metadata": {},
   "outputs": [],
   "source": [
    "X, y = preprocess.split_data_label(df)"
   ]
  },
  {
   "cell_type": "code",
   "execution_count": 55,
   "metadata": {},
   "outputs": [
    {
     "name": "stdout",
     "output_type": "stream",
     "text": [
      "TP: 63\n",
      "FP: 1496\n",
      "FN: 282\n",
      "TN: 235195\n",
      "\n",
      "\n"
     ]
    }
   ],
   "source": [
    "classifiers.run_white_box(X,y)"
   ]
  },
  {
   "cell_type": "code",
   "execution_count": 57,
   "metadata": {},
   "outputs": [],
   "source": [
    "jobs = -2\n",
    "\n",
    "from sklearn.tree import DecisionTreeClassifier\n",
    "from sklearn.ensemble import AdaBoostClassifier, RandomForestClassifier\n",
    "from sklearn.neural_network import MLPClassifier\n",
    "from xgboost import XGBClassifier\n",
    "\n",
    "from src import classify\n"
   ]
  },
  {
   "cell_type": "code",
   "execution_count": 16,
   "metadata": {},
   "outputs": [
    {
     "name": "stdout",
     "output_type": "stream",
     "text": [
      "TP: 136\n",
      "FP: 3978\n",
      "FN: 209\n",
      "TN: 232713\n",
      "\n",
      "\n"
     ]
    }
   ],
   "source": [
    "# Adaboost\n",
    "base = DecisionTreeClassifier(criterion='gini', max_features='sqrt', random_state=42, max_depth=5)\n",
    "ada = AdaBoostClassifier(base_estimator=base, n_estimators=100, learning_rate=0.5)\n",
    "classify.tenfold_cv(ada, X, y, smote_data=True)"
   ]
  },
  {
   "cell_type": "code",
   "execution_count": 7,
   "metadata": {},
   "outputs": [
    {
     "name": "stdout",
     "output_type": "stream",
     "text": [
      "TP: 282\n",
      "FP: 18833\n",
      "FN: 63\n",
      "TN: 217858\n",
      "\n",
      "\n"
     ]
    }
   ],
   "source": [
    "# Random Forest\n",
    "random = RandomForestClassifier(n_estimators=100,max_depth=5, max_features='sqrt', n_jobs=jobs, random_state=42, class_weight='balanced')\n",
    "classify.tenfold_cv(random, X, y, smote_data=True)"
   ]
  },
  {
   "cell_type": "code",
   "execution_count": 84,
   "metadata": {},
   "outputs": [],
   "source": [
    "X, y = classifiers.prep()"
   ]
  },
  {
   "cell_type": "code",
   "execution_count": 58,
   "metadata": {},
   "outputs": [],
   "source": [
    "# eXtreme Gradient Boosting with Trees\n",
    "gradient = XGBClassifier(n_estimators=100, random_state=42, n_jobs=jobs, max_depth=5, learning_rate=0.1, objective='binary:logistic')\n",
    "preds1 = classify.tenfold_cv(gradient, X, y, smote_data=True, predict=False)"
   ]
  },
  {
   "cell_type": "code",
   "execution_count": 68,
   "metadata": {},
   "outputs": [],
   "source": [
    "# eXtreme Gradient Boosting with Trees\n",
    "gradient = XGBClassifier(n_estimators=100, random_state=42, n_jobs=jobs, max_depth=5, learning_rate=0.05, objective='binary:logistic')\n",
    "preds2 = classify.tenfold_cv(gradient, X, y, smote_data=True, predict=False)"
   ]
  },
  {
   "cell_type": "code",
   "execution_count": 69,
   "metadata": {},
   "outputs": [],
   "source": [
    "# eXtreme Gradient Boosting with Trees\n",
    "gradient = XGBClassifier(n_estimators=100, random_state=42, n_jobs=jobs, max_depth=5, learning_rate=0.15, objective='binary:logistic')\n",
    "preds3 = classify.tenfold_cv(gradient, X, y, smote_data=True, predict=False)"
   ]
  },
  {
   "cell_type": "code",
   "execution_count": 83,
   "metadata": {},
   "outputs": [
    {
     "name": "stdout",
     "output_type": "stream",
     "text": [
      "TP: 82\n",
      "FP: 1433\n",
      "FN: 263\n",
      "TN: 235258\n",
      "\n",
      "\n",
      "TP: 64\n",
      "FP: 876\n",
      "FN: 281\n",
      "TN: 235815\n",
      "\n",
      "\n",
      "TP: 86\n",
      "FP: 1633\n",
      "FN: 259\n",
      "TN: 235058\n",
      "\n",
      "\n",
      "TP: 79\n",
      "FP: 1280\n",
      "FN: 266\n",
      "TN: 235411\n",
      "\n",
      "\n"
     ]
    }
   ],
   "source": [
    "classify.predict_with_threshold(preds1,threshold=0.92)\n",
    "classify.predict_with_threshold(preds2,threshold=0.92)\n",
    "classify.predict_with_threshold(preds3,threshold=0.91)\n",
    "\n",
    "classify.combine_preds(preds1,preds2,preds3)\n"
   ]
  },
  {
   "cell_type": "code",
   "execution_count": 95,
   "metadata": {},
   "outputs": [
    {
     "name": "stdout",
     "output_type": "stream",
     "text": [
      "TP: 0\n",
      "FP: 0\n",
      "FN: 345\n",
      "TN: 236691\n",
      "\n",
      "\n"
     ]
    }
   ],
   "source": [
    "# AdaBoost with GaussianNB\n",
    "from sklearn.naive_bayes import GaussianNB\n",
    "base = GaussianNB()\n",
    "ada = AdaBoostClassifier(base_estimator=base, n_estimators=100, learning_rate=0.1) \n",
    "classify.tenfold_cv(ada, X, y, smote_data=True, threshold=0.995)\n",
    "# nn = MLPClassifier(solver='adam', hidden_layer_sizes=(10,5), random_state=42)\n",
    "# classify.tenfold_cv(nn, X, y, smote_data=True)"
   ]
  },
  {
   "cell_type": "code",
   "execution_count": null,
   "metadata": {},
   "outputs": [],
   "source": []
  }
 ],
 "metadata": {
  "kernelspec": {
   "display_name": "Python [conda env:cda]",
   "language": "python",
   "name": "conda-env-cda-py"
  },
  "language_info": {
   "codemirror_mode": {
    "name": "ipython",
    "version": 3
   },
   "file_extension": ".py",
   "mimetype": "text/x-python",
   "name": "python",
   "nbconvert_exporter": "python",
   "pygments_lexer": "ipython3",
   "version": "3.7.1"
  }
 },
 "nbformat": 4,
 "nbformat_minor": 2
}
