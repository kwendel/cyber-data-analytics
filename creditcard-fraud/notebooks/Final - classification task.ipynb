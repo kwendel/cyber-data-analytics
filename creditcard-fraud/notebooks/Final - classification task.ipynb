{
 "cells": [
  {
   "cell_type": "markdown",
   "metadata": {},
   "source": [
    "# Classification task\n",
    "\n",
    "Run these cells below for reconstructing the results"
   ]
  },
  {
   "cell_type": "code",
   "execution_count": 53,
   "metadata": {},
   "outputs": [
    {
     "name": "stdout",
     "output_type": "stream",
     "text": [
      "The autoreload extension is already loaded. To reload it, use:\n",
      "  %reload_ext autoreload\n"
     ]
    }
   ],
   "source": [
    "%load_ext autoreload\n",
    "%autoreload 2\n",
    "\n",
    "import sys\n",
    "sys.path.append('../')\n",
    "\n",
    "from src import classifiers, preprocess\n",
    "\n",
    "df = classifiers.prep()"
   ]
  },
  {
   "cell_type": "code",
   "execution_count": 54,
   "metadata": {},
   "outputs": [],
   "source": [
    "X, y = preprocess.split_data_label(df)"
   ]
  },
  {
   "cell_type": "code",
   "execution_count": 89,
   "metadata": {},
   "outputs": [
    {
     "name": "stdout",
     "output_type": "stream",
     "text": [
      "TP: 63\n",
      "FP: 1496\n",
      "FN: 282\n",
      "TN: 235195\n",
      "\n",
      "\n"
     ]
    }
   ],
   "source": [
    "classifiers.run_white_box(X,y)"
   ]
  },
  {
   "cell_type": "code",
   "execution_count": null,
   "metadata": {},
   "outputs": [],
   "source": [
    "classifiers.run_black_box(X,y)"
   ]
  },
  {
   "cell_type": "markdown",
   "metadata": {},
   "source": [
    "## Original experiments for the report "
   ]
  },
  {
   "cell_type": "code",
   "execution_count": 58,
   "metadata": {},
   "outputs": [],
   "source": [
    "# eXtreme Gradient Boosting with Trees\n",
    "gradient = XGBClassifier(n_estimators=100, random_state=42, n_jobs=jobs, max_depth=5, learning_rate=0.1, objective='binary:logistic')\n",
    "preds1 = classify.tenfold_cv(gradient, X, y, smote_data=True, predict=False)"
   ]
  },
  {
   "cell_type": "code",
   "execution_count": 68,
   "metadata": {},
   "outputs": [],
   "source": [
    "# eXtreme Gradient Boosting with Trees\n",
    "gradient = XGBClassifier(n_estimators=100, random_state=42, n_jobs=jobs, max_depth=5, learning_rate=0.05, objective='binary:logistic')\n",
    "preds2 = classify.tenfold_cv(gradient, X, y, smote_data=True, predict=False)"
   ]
  },
  {
   "cell_type": "code",
   "execution_count": 69,
   "metadata": {},
   "outputs": [],
   "source": [
    "# eXtreme Gradient Boosting with Trees\n",
    "gradient = XGBClassifier(n_estimators=100, random_state=42, n_jobs=jobs, max_depth=5, learning_rate=0.15, objective='binary:logistic')\n",
    "preds3 = classify.tenfold_cv(gradient, X, y, smote_data=True, predict=False)"
   ]
  },
  {
   "cell_type": "code",
   "execution_count": 100,
   "metadata": {},
   "outputs": [
    {
     "name": "stdout",
     "output_type": "stream",
     "text": [
      "TP: 71\n",
      "FP: 1029\n",
      "FN: 274\n",
      "TN: 235662\n",
      "\n",
      "\n",
      "TP: 55\n",
      "FP: 364\n",
      "FN: 290\n",
      "TN: 236327\n",
      "\n",
      "\n",
      "TP: 72\n",
      "FP: 1134\n",
      "FN: 273\n",
      "TN: 235557\n",
      "\n",
      "\n",
      "TP: 70\n",
      "FP: 934\n",
      "FN: 275\n",
      "TN: 235757\n",
      "\n",
      "\n"
     ]
    }
   ],
   "source": [
    "classify.predict_with_threshold(preds1,threshold=0.93)\n",
    "classify.predict_with_threshold(preds2,threshold=0.93)\n",
    "classify.predict_with_threshold(preds3,threshold=0.93)\n",
    "\n",
    "classify.combine_preds(preds1,preds2,preds3)\n"
   ]
  }
 ],
 "metadata": {
  "kernelspec": {
   "display_name": "Python [conda env:cda]",
   "language": "python",
   "name": "conda-env-cda-py"
  },
  "language_info": {
   "codemirror_mode": {
    "name": "ipython",
    "version": 3
   },
   "file_extension": ".py",
   "mimetype": "text/x-python",
   "name": "python",
   "nbconvert_exporter": "python",
   "pygments_lexer": "ipython3",
   "version": "3.7.1"
  }
 },
 "nbformat": 4,
 "nbformat_minor": 2
}
