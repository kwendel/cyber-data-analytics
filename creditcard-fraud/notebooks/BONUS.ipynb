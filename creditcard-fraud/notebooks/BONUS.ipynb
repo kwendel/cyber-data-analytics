{
 "cells": [
  {
   "cell_type": "code",
   "execution_count": 15,
   "metadata": {},
   "outputs": [
    {
     "name": "stdout",
     "output_type": "stream",
     "text": [
      "The autoreload extension is already loaded. To reload it, use:\n",
      "  %reload_ext autoreload\n"
     ]
    }
   ],
   "source": [
    "%load_ext autoreload\n",
    "%autoreload 2\n",
    "\n",
    "import sys\n",
    "sys.path.append('../')\n",
    "\n",
    "from src import preprocess, plot, classify\n",
    "\n",
    "from sklearn.tree import DecisionTreeClassifier\n",
    "from sklearn.ensemble import AdaBoostClassifier, RandomForestClassifier\n",
    "from sklearn.neural_network import MLPClassifier\n",
    "from xgboost import XGBClassifier\n",
    "import pandas as pd\n",
    "\n",
    "jobs = 7"
   ]
  },
  {
   "cell_type": "code",
   "execution_count": 18,
   "metadata": {},
   "outputs": [
    {
     "data": {
      "text/html": [
       "<div>\n",
       "<style scoped>\n",
       "    .dataframe tbody tr th:only-of-type {\n",
       "        vertical-align: middle;\n",
       "    }\n",
       "\n",
       "    .dataframe tbody tr th {\n",
       "        vertical-align: top;\n",
       "    }\n",
       "\n",
       "    .dataframe thead th {\n",
       "        text-align: right;\n",
       "    }\n",
       "</style>\n",
       "<table border=\"1\" class=\"dataframe\">\n",
       "  <thead>\n",
       "    <tr style=\"text-align: right;\">\n",
       "      <th></th>\n",
       "      <th>bin</th>\n",
       "      <th>simple_journal</th>\n",
       "      <th>cvcresponsecode</th>\n",
       "      <th>amount_convert</th>\n",
       "      <th>amount_mean_week</th>\n",
       "      <th>amount_mean_month</th>\n",
       "      <th>amount_day</th>\n",
       "      <th>count_day</th>\n",
       "      <th>same_merchant_country</th>\n",
       "      <th>same_ip</th>\n",
       "      <th>...</th>\n",
       "      <th>11</th>\n",
       "      <th>12</th>\n",
       "      <th>0</th>\n",
       "      <th>1</th>\n",
       "      <th>2</th>\n",
       "      <th>3</th>\n",
       "      <th>4</th>\n",
       "      <th>0</th>\n",
       "      <th>1</th>\n",
       "      <th>2</th>\n",
       "    </tr>\n",
       "  </thead>\n",
       "  <tbody>\n",
       "    <tr>\n",
       "      <th>205368</th>\n",
       "      <td>465859.0</td>\n",
       "      <td>0</td>\n",
       "      <td>1</td>\n",
       "      <td>4953.6135</td>\n",
       "      <td>4953.6135</td>\n",
       "      <td>4953.6135</td>\n",
       "      <td>4953.6135</td>\n",
       "      <td>1.0</td>\n",
       "      <td>1.0</td>\n",
       "      <td>1.0</td>\n",
       "      <td>...</td>\n",
       "      <td>0</td>\n",
       "      <td>0</td>\n",
       "      <td>0</td>\n",
       "      <td>1</td>\n",
       "      <td>0</td>\n",
       "      <td>0</td>\n",
       "      <td>0</td>\n",
       "      <td>0</td>\n",
       "      <td>1</td>\n",
       "      <td>0</td>\n",
       "    </tr>\n",
       "  </tbody>\n",
       "</table>\n",
       "<p>1 rows × 33 columns</p>\n",
       "</div>"
      ],
      "text/plain": [
       "             bin  simple_journal  cvcresponsecode  amount_convert  \\\n",
       "205368  465859.0               0                1       4953.6135   \n",
       "\n",
       "        amount_mean_week  amount_mean_month  amount_day  count_day  \\\n",
       "205368         4953.6135          4953.6135   4953.6135        1.0   \n",
       "\n",
       "        same_merchant_country  same_ip  ...  11  12  0  1  2  3  4  0  1  2  \n",
       "205368                    1.0      1.0  ...   0   0  0  1  0  0  0  0  1  0  \n",
       "\n",
       "[1 rows x 33 columns]"
      ]
     },
     "metadata": {},
     "output_type": "display_data"
    }
   ],
   "source": [
    "df = pd.read_pickle(\"../data/df_aggregated.pkl\")\n",
    "df = preprocess.onehot(df)\n",
    "df = preprocess.delete_features(df)\n",
    "display(df.head(1))\n",
    "X, y = preprocess.split_data_label(df)"
   ]
  },
  {
   "cell_type": "code",
   "execution_count": 19,
   "metadata": {},
   "outputs": [],
   "source": [
    "# eXtreme Gradient Boosting with Trees\n",
    "gradient = XGBClassifier(n_estimators=100, random_state=42, n_jobs=jobs, max_depth=5, learning_rate=0.1, objective='binary:logistic')\n",
    "preds1 = classify.tenfold_cv(gradient, X, y, smote_data=True, predict=False)"
   ]
  },
  {
   "cell_type": "code",
   "execution_count": 20,
   "metadata": {},
   "outputs": [],
   "source": [
    "# eXtreme Gradient Boosting with Trees\n",
    "gradient = XGBClassifier(n_estimators=100, random_state=42, n_jobs=jobs, max_depth=5, learning_rate=0.05, objective='binary:logistic')\n",
    "preds2 = classify.tenfold_cv(gradient, X, y, smote_data=True, predict=False)"
   ]
  },
  {
   "cell_type": "code",
   "execution_count": 21,
   "metadata": {},
   "outputs": [],
   "source": [
    "# eXtreme Gradient Boosting with Trees\n",
    "gradient = XGBClassifier(n_estimators=100, random_state=42, n_jobs=jobs, max_depth=5, learning_rate=0.15, objective='binary:logistic')\n",
    "preds3 = classify.tenfold_cv(gradient, X, y, smote_data=True, predict=False)"
   ]
  },
  {
   "cell_type": "code",
   "execution_count": 22,
   "metadata": {},
   "outputs": [
    {
     "name": "stdout",
     "output_type": "stream",
     "text": [
      "TP: 89\n",
      "FP: 1078\n",
      "FN: 256\n",
      "TN: 235613\n",
      "\n",
      "\n",
      "TP: 74\n",
      "FP: 1227\n",
      "FN: 271\n",
      "TN: 235464\n",
      "\n",
      "\n",
      "TP: 68\n",
      "FP: 700\n",
      "FN: 277\n",
      "TN: 235991\n",
      "\n",
      "\n",
      "TP: 92\n",
      "FP: 1315\n",
      "FN: 253\n",
      "TN: 235376\n",
      "\n",
      "\n"
     ]
    }
   ],
   "source": [
    "classify.predict_with_threshold(preds1,threshold=0.93)\n",
    "classify.predict_with_threshold(preds2,threshold=0.92)\n",
    "classify.predict_with_threshold(preds3,threshold=0.945)\n",
    "\n",
    "classify.combine_preds(preds1,preds2,preds3)"
   ]
  },
  {
   "cell_type": "code",
   "execution_count": null,
   "metadata": {},
   "outputs": [],
   "source": []
  }
 ],
 "metadata": {
  "kernelspec": {
   "display_name": "Python 3",
   "language": "python",
   "name": "python3"
  },
  "language_info": {
   "codemirror_mode": {
    "name": "ipython",
    "version": 3
   },
   "file_extension": ".py",
   "mimetype": "text/x-python",
   "name": "python",
   "nbconvert_exporter": "python",
   "pygments_lexer": "ipython3",
   "version": "3.7.1"
  }
 },
 "nbformat": 4,
 "nbformat_minor": 2
}
