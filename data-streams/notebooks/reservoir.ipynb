{
 "cells": [
  {
   "cell_type": "code",
   "execution_count": 13,
   "metadata": {
    "collapsed": true,
    "pycharm": {
     "name": "#%%\n",
     "is_executing": false
    }
   },
   "outputs": [
    {
     "name": "stdout",
     "text": [
      "The autoreload extension is already loaded. To reload it, use:\n  %reload_ext autoreload\n"
     ],
     "output_type": "stream"
    }
   ],
   "source": [
    "%load_ext autoreload\n",
    "%autoreload 2\n",
    "import sys\n",
    "sys.path.append('../')"
   ]
  },
  {
   "cell_type": "code",
   "execution_count": null,
   "outputs": [
    {
     "data": {
      "text/plain": "HBox(children=(IntProgress(value=1, bar_style='info', max=1), HTML(value='')))",
      "application/vnd.jupyter.widget-view+json": {
       "version_major": 2,
       "version_minor": 0,
       "model_id": "16b50d0ebeab49d4ae57374fd58af607"
      }
     },
     "metadata": {},
     "output_type": "display_data"
    }
   ],
   "source": [
    "import typing\n",
    "from src.reservoir import Reservoir\n",
    "from src.data import process_file\n",
    "\n",
    "# gen = process_file('../data/capture.test.pcap.netflow.labeled')\n",
    "gen = process_file('../data/capture20110812.pcap.netflow.labeled')\n",
    "\n",
    "\n",
    "def filter() -> typing.Iterator[str]:\n",
    "    infected_ip = '147.32.84.165'\n",
    "    for flow in gen:\n",
    "        if infected_ip in flow.src:\n",
    "            yield flow.dst\n",
    "        elif infected_ip in flow.dst:\n",
    "            yield flow.src\n",
    "\n",
    "\n",
    "r = Reservoir(filter(), size=100)\n",
    "r.selectKItems()\n",
    "\n"
   ],
   "metadata": {
    "collapsed": false,
    "pycharm": {
     "name": "#%%\n",
     "is_executing": true
    }
   }
  }
 ],
 "metadata": {
  "language_info": {
   "codemirror_mode": {
    "name": "ipython",
    "version": 2
   },
   "file_extension": ".py",
   "mimetype": "text/x-python",
   "name": "python",
   "nbconvert_exporter": "python",
   "pygments_lexer": "ipython2",
   "version": "2.7.6"
  },
  "kernelspec": {
   "name": "python3",
   "language": "python",
   "display_name": "Python 3"
  },
  "pycharm": {
   "stem_cell": {
    "cell_type": "raw",
    "source": [],
    "metadata": {
     "collapsed": false
    }
   }
  }
 },
 "nbformat": 4,
 "nbformat_minor": 0
}